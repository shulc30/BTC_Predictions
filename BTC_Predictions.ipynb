{
  "nbformat": 4,
  "nbformat_minor": 0,
  "metadata": {
    "colab": {
      "provenance": [],
      "include_colab_link": true
    },
    "kernelspec": {
      "name": "python3",
      "display_name": "Python 3"
    },
    "language_info": {
      "name": "python"
    }
  },
  "cells": [
    {
      "cell_type": "markdown",
      "metadata": {
        "id": "view-in-github",
        "colab_type": "text"
      },
      "source": [
        "<a href=\"https://colab.research.google.com/github/shulc30/BTC_Predictions/blob/main/BTC_Predictions.ipynb\" target=\"_parent\"><img src=\"https://colab.research.google.com/assets/colab-badge.svg\" alt=\"Open In Colab\"/></a>"
      ]
    },
    {
      "cell_type": "code",
      "source": [
        "!pip install python-binance"
      ],
      "metadata": {
        "colab": {
          "base_uri": "https://localhost:8080/"
        },
        "id": "XAaCttZy4N2P",
        "outputId": "046bc02e-5b16-43e4-8eed-4ae3e4757ae2"
      },
      "execution_count": null,
      "outputs": [
        {
          "output_type": "stream",
          "name": "stdout",
          "text": [
            "Looking in indexes: https://pypi.org/simple, https://us-python.pkg.dev/colab-wheels/public/simple/\n",
            "Collecting python-binance\n",
            "  Downloading python_binance-1.0.17-py2.py3-none-any.whl (67 kB)\n",
            "\u001b[2K     \u001b[90m━━━━━━━━━━━━━━━━━━━━━━━━━━━━━━━━━━━━━━━━\u001b[0m \u001b[32m67.6/67.6 KB\u001b[0m \u001b[31m2.2 MB/s\u001b[0m eta \u001b[36m0:00:00\u001b[0m\n",
            "\u001b[?25hCollecting pycryptodome\n",
            "  Downloading pycryptodome-3.17-cp35-abi3-manylinux_2_17_x86_64.manylinux2014_x86_64.whl (2.1 MB)\n",
            "\u001b[2K     \u001b[90m━━━━━━━━━━━━━━━━━━━━━━━━━━━━━━━━━━━━━━━━\u001b[0m \u001b[32m2.1/2.1 MB\u001b[0m \u001b[31m16.5 MB/s\u001b[0m eta \u001b[36m0:00:00\u001b[0m\n",
            "\u001b[?25hCollecting websockets\n",
            "  Downloading websockets-11.0.1-cp39-cp39-manylinux_2_5_x86_64.manylinux1_x86_64.manylinux_2_17_x86_64.manylinux2014_x86_64.whl (129 kB)\n",
            "\u001b[2K     \u001b[90m━━━━━━━━━━━━━━━━━━━━━━━━━━━━━━━━━━━━━━━\u001b[0m \u001b[32m129.5/129.5 KB\u001b[0m \u001b[31m5.7 MB/s\u001b[0m eta \u001b[36m0:00:00\u001b[0m\n",
            "\u001b[?25hRequirement already satisfied: six in /usr/local/lib/python3.9/dist-packages (from python-binance) (1.16.0)\n",
            "Collecting ujson\n",
            "  Downloading ujson-5.7.0-cp39-cp39-manylinux_2_17_x86_64.manylinux2014_x86_64.whl (52 kB)\n",
            "\u001b[2K     \u001b[90m━━━━━━━━━━━━━━━━━━━━━━━━━━━━━━━━━━━━━━━━\u001b[0m \u001b[32m52.8/52.8 KB\u001b[0m \u001b[31m1.8 MB/s\u001b[0m eta \u001b[36m0:00:00\u001b[0m\n",
            "\u001b[?25hCollecting aiohttp\n",
            "  Downloading aiohttp-3.8.4-cp39-cp39-manylinux_2_17_x86_64.manylinux2014_x86_64.whl (1.0 MB)\n",
            "\u001b[2K     \u001b[90m━━━━━━━━━━━━━━━━━━━━━━━━━━━━━━━━━━━━━━━━\u001b[0m \u001b[32m1.0/1.0 MB\u001b[0m \u001b[31m11.0 MB/s\u001b[0m eta \u001b[36m0:00:00\u001b[0m\n",
            "\u001b[?25hCollecting dateparser\n",
            "  Downloading dateparser-1.1.8-py2.py3-none-any.whl (293 kB)\n",
            "\u001b[2K     \u001b[90m━━━━━━━━━━━━━━━━━━━━━━━━━━━━━━━━━━━━━━\u001b[0m \u001b[32m293.8/293.8 KB\u001b[0m \u001b[31m11.2 MB/s\u001b[0m eta \u001b[36m0:00:00\u001b[0m\n",
            "\u001b[?25hRequirement already satisfied: requests in /usr/local/lib/python3.9/dist-packages (from python-binance) (2.27.1)\n",
            "Requirement already satisfied: charset-normalizer<4.0,>=2.0 in /usr/local/lib/python3.9/dist-packages (from aiohttp->python-binance) (2.0.12)\n",
            "Collecting multidict<7.0,>=4.5\n",
            "  Downloading multidict-6.0.4-cp39-cp39-manylinux_2_17_x86_64.manylinux2014_x86_64.whl (114 kB)\n",
            "\u001b[2K     \u001b[90m━━━━━━━━━━━━━━━━━━━━━━━━━━━━━━━━━━━━━━━\u001b[0m \u001b[32m114.2/114.2 KB\u001b[0m \u001b[31m3.5 MB/s\u001b[0m eta \u001b[36m0:00:00\u001b[0m\n",
            "\u001b[?25hCollecting frozenlist>=1.1.1\n",
            "  Downloading frozenlist-1.3.3-cp39-cp39-manylinux_2_5_x86_64.manylinux1_x86_64.manylinux_2_17_x86_64.manylinux2014_x86_64.whl (158 kB)\n",
            "\u001b[2K     \u001b[90m━━━━━━━━━━━━━━━━━━━━━━━━━━━━━━━━━━━━━━━\u001b[0m \u001b[32m158.8/158.8 KB\u001b[0m \u001b[31m3.5 MB/s\u001b[0m eta \u001b[36m0:00:00\u001b[0m\n",
            "\u001b[?25hRequirement already satisfied: attrs>=17.3.0 in /usr/local/lib/python3.9/dist-packages (from aiohttp->python-binance) (22.2.0)\n",
            "Collecting aiosignal>=1.1.2\n",
            "  Downloading aiosignal-1.3.1-py3-none-any.whl (7.6 kB)\n",
            "Collecting async-timeout<5.0,>=4.0.0a3\n",
            "  Downloading async_timeout-4.0.2-py3-none-any.whl (5.8 kB)\n",
            "Collecting yarl<2.0,>=1.0\n",
            "  Downloading yarl-1.8.2-cp39-cp39-manylinux_2_17_x86_64.manylinux2014_x86_64.whl (264 kB)\n",
            "\u001b[2K     \u001b[90m━━━━━━━━━━━━━━━━━━━━━━━━━━━━━━━━━━━━━━━\u001b[0m \u001b[32m264.6/264.6 KB\u001b[0m \u001b[31m6.4 MB/s\u001b[0m eta \u001b[36m0:00:00\u001b[0m\n",
            "\u001b[?25hRequirement already satisfied: tzlocal in /usr/local/lib/python3.9/dist-packages (from dateparser->python-binance) (4.3)\n",
            "Requirement already satisfied: python-dateutil in /usr/local/lib/python3.9/dist-packages (from dateparser->python-binance) (2.8.2)\n",
            "Requirement already satisfied: pytz in /usr/local/lib/python3.9/dist-packages (from dateparser->python-binance) (2022.7.1)\n",
            "Requirement already satisfied: regex!=2019.02.19,!=2021.8.27 in /usr/local/lib/python3.9/dist-packages (from dateparser->python-binance) (2022.10.31)\n",
            "Requirement already satisfied: urllib3<1.27,>=1.21.1 in /usr/local/lib/python3.9/dist-packages (from requests->python-binance) (1.26.15)\n",
            "Requirement already satisfied: certifi>=2017.4.17 in /usr/local/lib/python3.9/dist-packages (from requests->python-binance) (2022.12.7)\n",
            "Requirement already satisfied: idna<4,>=2.5 in /usr/local/lib/python3.9/dist-packages (from requests->python-binance) (3.4)\n",
            "Requirement already satisfied: pytz-deprecation-shim in /usr/local/lib/python3.9/dist-packages (from tzlocal->dateparser->python-binance) (0.1.0.post0)\n",
            "Requirement already satisfied: tzdata in /usr/local/lib/python3.9/dist-packages (from pytz-deprecation-shim->tzlocal->dateparser->python-binance) (2023.3)\n",
            "Installing collected packages: websockets, ujson, pycryptodome, multidict, frozenlist, async-timeout, yarl, aiosignal, dateparser, aiohttp, python-binance\n",
            "Successfully installed aiohttp-3.8.4 aiosignal-1.3.1 async-timeout-4.0.2 dateparser-1.1.8 frozenlist-1.3.3 multidict-6.0.4 pycryptodome-3.17 python-binance-1.0.17 ujson-5.7.0 websockets-11.0.1 yarl-1.8.2\n"
          ]
        }
      ]
    },
    {
      "cell_type": "code",
      "source": [
        "\n",
        "from binance.client import Client\n",
        "import pandas as pd\n",
        "\n",
        "api_key = ''\n",
        "api_secret = ''\n",
        "\n",
        "client = Client(api_key, api_secret, testnet=True)\n",
        "\n",
        "futures_data = client.futures_klines(symbol='BTCUSDT', interval=Client.KLINE_INTERVAL_1HOUR, limit=1500)\n",
        "\n",
        "df = pd.DataFrame(futures_data, columns=['open_time', 'open', 'high', 'low', 'close', 'volume', 'close_time', 'Quote asset volume', 'Number of trades', 'Taker buy base asset volume', 'Taker buy quote asset volume', 'Ignore'])\n",
        "\n",
        "df['open_time'] = pd.to_datetime(df['open_time'], unit='ms')\n",
        "df['close_time'] = pd.to_datetime(df['close_time'], unit='ms')\n",
        "\n",
        "df['open']=df['open'].astype(float)\n",
        "df['high']=df['high'].astype(float)\n",
        "df['low']=df['low'].astype(float)\n",
        "df['close']=df['close'].astype(float)\n",
        "df['volume']=df['volume'].astype(float)\n",
        "df = df.drop(columns = ['Quote asset volume', 'Taker buy base asset volume', 'Taker buy quote asset volume', 'Ignore'], axis=1)\n",
        "\n",
        "df"
      ],
      "metadata": {
        "colab": {
          "base_uri": "https://localhost:8080/",
          "height": 424
        },
        "id": "H9vgkhLJ5_id",
        "outputId": "68ce3841-93b5-4c5a-faa6-a3c948ff99ab"
      },
      "execution_count": null,
      "outputs": [
        {
          "output_type": "execute_result",
          "data": {
            "text/plain": [
              "               open_time     open     high      low    close    volume  \\\n",
              "0    2023-02-02 01:00:00  24195.8  24200.2  23608.0  23953.3  8313.516   \n",
              "1    2023-02-02 02:00:00  23960.7  25699.0  23663.0  23885.1  6946.650   \n",
              "2    2023-02-02 03:00:00  23884.0  25600.0  23799.9  23851.1  6681.613   \n",
              "3    2023-02-02 04:00:00  23799.9  25600.0  23663.0  23878.4  5885.384   \n",
              "4    2023-02-02 05:00:00  23881.9  24221.0  23608.0  23868.1  6181.127   \n",
              "...                  ...      ...      ...      ...      ...       ...   \n",
              "1495 2023-04-05 08:00:00  28522.3  28631.0  28372.3  28538.9  6717.546   \n",
              "1496 2023-04-05 09:00:00  28542.9  28651.0  28472.6  28509.5  6421.411   \n",
              "1497 2023-04-05 10:00:00  28509.5  28585.5  28474.1  28495.1  5356.894   \n",
              "1498 2023-04-05 11:00:00  28495.1  28747.2  28480.5  28552.3  6886.014   \n",
              "1499 2023-04-05 12:00:00  28552.3  28666.0  28500.0  28542.3  3466.489   \n",
              "\n",
              "                  close_time  Number of trades  \n",
              "0    2023-02-02 01:59:59.999              1580  \n",
              "1    2023-02-02 02:59:59.999              2190  \n",
              "2    2023-02-02 03:59:59.999              1294  \n",
              "3    2023-02-02 04:59:59.999              2015  \n",
              "4    2023-02-02 05:59:59.999              1694  \n",
              "...                      ...               ...  \n",
              "1495 2023-04-05 08:59:59.999              1942  \n",
              "1496 2023-04-05 09:59:59.999              2075  \n",
              "1497 2023-04-05 10:59:59.999              1821  \n",
              "1498 2023-04-05 11:59:59.999              2342  \n",
              "1499 2023-04-05 12:59:59.999              1067  \n",
              "\n",
              "[1500 rows x 8 columns]"
            ],
            "text/html": [
              "\n",
              "  <div id=\"df-0d38636a-e4fb-4e27-b923-c6f4c78cd825\">\n",
              "    <div class=\"colab-df-container\">\n",
              "      <div>\n",
              "<style scoped>\n",
              "    .dataframe tbody tr th:only-of-type {\n",
              "        vertical-align: middle;\n",
              "    }\n",
              "\n",
              "    .dataframe tbody tr th {\n",
              "        vertical-align: top;\n",
              "    }\n",
              "\n",
              "    .dataframe thead th {\n",
              "        text-align: right;\n",
              "    }\n",
              "</style>\n",
              "<table border=\"1\" class=\"dataframe\">\n",
              "  <thead>\n",
              "    <tr style=\"text-align: right;\">\n",
              "      <th></th>\n",
              "      <th>open_time</th>\n",
              "      <th>open</th>\n",
              "      <th>high</th>\n",
              "      <th>low</th>\n",
              "      <th>close</th>\n",
              "      <th>volume</th>\n",
              "      <th>close_time</th>\n",
              "      <th>Number of trades</th>\n",
              "    </tr>\n",
              "  </thead>\n",
              "  <tbody>\n",
              "    <tr>\n",
              "      <th>0</th>\n",
              "      <td>2023-02-02 01:00:00</td>\n",
              "      <td>24195.8</td>\n",
              "      <td>24200.2</td>\n",
              "      <td>23608.0</td>\n",
              "      <td>23953.3</td>\n",
              "      <td>8313.516</td>\n",
              "      <td>2023-02-02 01:59:59.999</td>\n",
              "      <td>1580</td>\n",
              "    </tr>\n",
              "    <tr>\n",
              "      <th>1</th>\n",
              "      <td>2023-02-02 02:00:00</td>\n",
              "      <td>23960.7</td>\n",
              "      <td>25699.0</td>\n",
              "      <td>23663.0</td>\n",
              "      <td>23885.1</td>\n",
              "      <td>6946.650</td>\n",
              "      <td>2023-02-02 02:59:59.999</td>\n",
              "      <td>2190</td>\n",
              "    </tr>\n",
              "    <tr>\n",
              "      <th>2</th>\n",
              "      <td>2023-02-02 03:00:00</td>\n",
              "      <td>23884.0</td>\n",
              "      <td>25600.0</td>\n",
              "      <td>23799.9</td>\n",
              "      <td>23851.1</td>\n",
              "      <td>6681.613</td>\n",
              "      <td>2023-02-02 03:59:59.999</td>\n",
              "      <td>1294</td>\n",
              "    </tr>\n",
              "    <tr>\n",
              "      <th>3</th>\n",
              "      <td>2023-02-02 04:00:00</td>\n",
              "      <td>23799.9</td>\n",
              "      <td>25600.0</td>\n",
              "      <td>23663.0</td>\n",
              "      <td>23878.4</td>\n",
              "      <td>5885.384</td>\n",
              "      <td>2023-02-02 04:59:59.999</td>\n",
              "      <td>2015</td>\n",
              "    </tr>\n",
              "    <tr>\n",
              "      <th>4</th>\n",
              "      <td>2023-02-02 05:00:00</td>\n",
              "      <td>23881.9</td>\n",
              "      <td>24221.0</td>\n",
              "      <td>23608.0</td>\n",
              "      <td>23868.1</td>\n",
              "      <td>6181.127</td>\n",
              "      <td>2023-02-02 05:59:59.999</td>\n",
              "      <td>1694</td>\n",
              "    </tr>\n",
              "    <tr>\n",
              "      <th>...</th>\n",
              "      <td>...</td>\n",
              "      <td>...</td>\n",
              "      <td>...</td>\n",
              "      <td>...</td>\n",
              "      <td>...</td>\n",
              "      <td>...</td>\n",
              "      <td>...</td>\n",
              "      <td>...</td>\n",
              "    </tr>\n",
              "    <tr>\n",
              "      <th>1495</th>\n",
              "      <td>2023-04-05 08:00:00</td>\n",
              "      <td>28522.3</td>\n",
              "      <td>28631.0</td>\n",
              "      <td>28372.3</td>\n",
              "      <td>28538.9</td>\n",
              "      <td>6717.546</td>\n",
              "      <td>2023-04-05 08:59:59.999</td>\n",
              "      <td>1942</td>\n",
              "    </tr>\n",
              "    <tr>\n",
              "      <th>1496</th>\n",
              "      <td>2023-04-05 09:00:00</td>\n",
              "      <td>28542.9</td>\n",
              "      <td>28651.0</td>\n",
              "      <td>28472.6</td>\n",
              "      <td>28509.5</td>\n",
              "      <td>6421.411</td>\n",
              "      <td>2023-04-05 09:59:59.999</td>\n",
              "      <td>2075</td>\n",
              "    </tr>\n",
              "    <tr>\n",
              "      <th>1497</th>\n",
              "      <td>2023-04-05 10:00:00</td>\n",
              "      <td>28509.5</td>\n",
              "      <td>28585.5</td>\n",
              "      <td>28474.1</td>\n",
              "      <td>28495.1</td>\n",
              "      <td>5356.894</td>\n",
              "      <td>2023-04-05 10:59:59.999</td>\n",
              "      <td>1821</td>\n",
              "    </tr>\n",
              "    <tr>\n",
              "      <th>1498</th>\n",
              "      <td>2023-04-05 11:00:00</td>\n",
              "      <td>28495.1</td>\n",
              "      <td>28747.2</td>\n",
              "      <td>28480.5</td>\n",
              "      <td>28552.3</td>\n",
              "      <td>6886.014</td>\n",
              "      <td>2023-04-05 11:59:59.999</td>\n",
              "      <td>2342</td>\n",
              "    </tr>\n",
              "    <tr>\n",
              "      <th>1499</th>\n",
              "      <td>2023-04-05 12:00:00</td>\n",
              "      <td>28552.3</td>\n",
              "      <td>28666.0</td>\n",
              "      <td>28500.0</td>\n",
              "      <td>28542.3</td>\n",
              "      <td>3466.489</td>\n",
              "      <td>2023-04-05 12:59:59.999</td>\n",
              "      <td>1067</td>\n",
              "    </tr>\n",
              "  </tbody>\n",
              "</table>\n",
              "<p>1500 rows × 8 columns</p>\n",
              "</div>\n",
              "      <button class=\"colab-df-convert\" onclick=\"convertToInteractive('df-0d38636a-e4fb-4e27-b923-c6f4c78cd825')\"\n",
              "              title=\"Convert this dataframe to an interactive table.\"\n",
              "              style=\"display:none;\">\n",
              "        \n",
              "  <svg xmlns=\"http://www.w3.org/2000/svg\" height=\"24px\"viewBox=\"0 0 24 24\"\n",
              "       width=\"24px\">\n",
              "    <path d=\"M0 0h24v24H0V0z\" fill=\"none\"/>\n",
              "    <path d=\"M18.56 5.44l.94 2.06.94-2.06 2.06-.94-2.06-.94-.94-2.06-.94 2.06-2.06.94zm-11 1L8.5 8.5l.94-2.06 2.06-.94-2.06-.94L8.5 2.5l-.94 2.06-2.06.94zm10 10l.94 2.06.94-2.06 2.06-.94-2.06-.94-.94-2.06-.94 2.06-2.06.94z\"/><path d=\"M17.41 7.96l-1.37-1.37c-.4-.4-.92-.59-1.43-.59-.52 0-1.04.2-1.43.59L10.3 9.45l-7.72 7.72c-.78.78-.78 2.05 0 2.83L4 21.41c.39.39.9.59 1.41.59.51 0 1.02-.2 1.41-.59l7.78-7.78 2.81-2.81c.8-.78.8-2.07 0-2.86zM5.41 20L4 18.59l7.72-7.72 1.47 1.35L5.41 20z\"/>\n",
              "  </svg>\n",
              "      </button>\n",
              "      \n",
              "  <style>\n",
              "    .colab-df-container {\n",
              "      display:flex;\n",
              "      flex-wrap:wrap;\n",
              "      gap: 12px;\n",
              "    }\n",
              "\n",
              "    .colab-df-convert {\n",
              "      background-color: #E8F0FE;\n",
              "      border: none;\n",
              "      border-radius: 50%;\n",
              "      cursor: pointer;\n",
              "      display: none;\n",
              "      fill: #1967D2;\n",
              "      height: 32px;\n",
              "      padding: 0 0 0 0;\n",
              "      width: 32px;\n",
              "    }\n",
              "\n",
              "    .colab-df-convert:hover {\n",
              "      background-color: #E2EBFA;\n",
              "      box-shadow: 0px 1px 2px rgba(60, 64, 67, 0.3), 0px 1px 3px 1px rgba(60, 64, 67, 0.15);\n",
              "      fill: #174EA6;\n",
              "    }\n",
              "\n",
              "    [theme=dark] .colab-df-convert {\n",
              "      background-color: #3B4455;\n",
              "      fill: #D2E3FC;\n",
              "    }\n",
              "\n",
              "    [theme=dark] .colab-df-convert:hover {\n",
              "      background-color: #434B5C;\n",
              "      box-shadow: 0px 1px 3px 1px rgba(0, 0, 0, 0.15);\n",
              "      filter: drop-shadow(0px 1px 2px rgba(0, 0, 0, 0.3));\n",
              "      fill: #FFFFFF;\n",
              "    }\n",
              "  </style>\n",
              "\n",
              "      <script>\n",
              "        const buttonEl =\n",
              "          document.querySelector('#df-0d38636a-e4fb-4e27-b923-c6f4c78cd825 button.colab-df-convert');\n",
              "        buttonEl.style.display =\n",
              "          google.colab.kernel.accessAllowed ? 'block' : 'none';\n",
              "\n",
              "        async function convertToInteractive(key) {\n",
              "          const element = document.querySelector('#df-0d38636a-e4fb-4e27-b923-c6f4c78cd825');\n",
              "          const dataTable =\n",
              "            await google.colab.kernel.invokeFunction('convertToInteractive',\n",
              "                                                     [key], {});\n",
              "          if (!dataTable) return;\n",
              "\n",
              "          const docLinkHtml = 'Like what you see? Visit the ' +\n",
              "            '<a target=\"_blank\" href=https://colab.research.google.com/notebooks/data_table.ipynb>data table notebook</a>'\n",
              "            + ' to learn more about interactive tables.';\n",
              "          element.innerHTML = '';\n",
              "          dataTable['output_type'] = 'display_data';\n",
              "          await google.colab.output.renderOutput(dataTable, element);\n",
              "          const docLink = document.createElement('div');\n",
              "          docLink.innerHTML = docLinkHtml;\n",
              "          element.appendChild(docLink);\n",
              "        }\n",
              "      </script>\n",
              "    </div>\n",
              "  </div>\n",
              "  "
            ]
          },
          "metadata": {},
          "execution_count": 97
        }
      ]
    },
    {
      "cell_type": "code",
      "source": [
        "from binance.client import Client\n",
        "import pandas as pd\n",
        "import time\n",
        "\n",
        "api_key = ''\n",
        "api_secret = ''\n",
        "client = Client(api_key, api_secret, testnet=True)\n",
        "\n",
        "# Определение начального времени запроса\n",
        "end_time = int(time.time() * 1000)\n",
        "print(end_time)\n",
        "print(pd.to_datetime(end_time, unit='ms')+pd.Timedelta(hours=3))\n",
        "\n",
        "# Инициализация счетчика циклов\n",
        "num_cycles = 10\n",
        "\n",
        "# Инициализация пустого DataFrame\n",
        "df = pd.DataFrame(columns=['Opentime', 'Open', 'High', 'Low', 'Close', 'Volume', 'Closetime', 'Quotee', 'Number', 'TakerBuyBaseAssetVolume', 'TakerBuyQuoteAssetVolume', 'Ignore'])\n",
        "\n",
        "# Цикл запроса и сохранения котировок\n",
        "for i in range(num_cycles):\n",
        "    # Запрос котировок по 1000 штук\n",
        "    futures_data = client.futures_klines(symbol='BTCUSDT', interval=Client.KLINE_INTERVAL_1HOUR, limit=1000, endTime=end_time)\n",
        "    if not futures_data:\n",
        "        # Если список котировок пуст, значит достигнут конец исторических данных\n",
        "        break\n",
        "\n",
        "    # Преобразование данных в DataFrame и добавление в основной DataFrame\n",
        "    temp_df = pd.DataFrame(futures_data, columns=['Opentime', 'Open', 'High', 'Low', 'Close', 'Volume', 'Closetime', 'Quotee', 'Number', 'TakerBuyBaseAssetVolume', 'TakerBuyQuoteAssetVolume', 'Ignore'])\n",
        "    df = pd.concat([temp_df, df], ignore_index=True)\n",
        "\n",
        "    # Обновление начального времени для следующего запроса\n",
        "    #start_time = int(temp_df.iloc[-1]['Close time'])\n",
        "    end_time = int(temp_df.Opentime[0]-1)\n",
        "\n",
        "    # Увеличение счетчика циклов\n",
        "    print(f'Цикл {i}: {len(futures_data)} Записей добавлено.')\n",
        "\n",
        "    # Задержка перед следующим запросом\n",
        "    time.sleep(1)\n",
        "\n",
        "print('Получение данных завершено.')\n",
        "df['Opentime'] = pd.to_datetime(df['Opentime'], unit='ms')+pd.Timedelta(hours=3)\n",
        "df['Closetime'] = pd.to_datetime(df['Closetime'], unit='ms')+pd.Timedelta(hours=3)\n",
        "df[['Open', 'High', 'Low', 'Close', 'Volume', 'Quotee', 'TakerBuyBaseAssetVolume', 'TakerBuyQuoteAssetVolume']] = df[['Open', 'High', 'Low', 'Close', 'Volume', 'Quotee', 'TakerBuyBaseAssetVolume', 'TakerBuyQuoteAssetVolume']].astype(float)\n",
        "df=df.set_index('Opentime')\n",
        "df"
      ],
      "metadata": {
        "colab": {
          "base_uri": "https://localhost:8080/",
          "height": 681
        },
        "id": "fQ4fUu4W6eBC",
        "outputId": "d59edaa2-3bd2-4cbc-c1eb-14bd2f0287b9"
      },
      "execution_count": null,
      "outputs": [
        {
          "output_type": "stream",
          "name": "stdout",
          "text": [
            "1680775388436\n",
            "2023-04-06 13:03:08.436000\n",
            "Цикл 0: 1000 Записей добавлено.\n",
            "Цикл 1: 1000 Записей добавлено.\n",
            "Цикл 2: 1000 Записей добавлено.\n",
            "Цикл 3: 1000 Записей добавлено.\n",
            "Цикл 4: 1000 Записей добавлено.\n",
            "Цикл 5: 1000 Записей добавлено.\n",
            "Цикл 6: 1000 Записей добавлено.\n",
            "Цикл 7: 1000 Записей добавлено.\n",
            "Цикл 8: 1000 Записей добавлено.\n",
            "Цикл 9: 1000 Записей добавлено.\n",
            "Получение данных завершено.\n"
          ]
        },
        {
          "output_type": "execute_result",
          "data": {
            "text/plain": [
              "                        Open     High      Low    Close     Volume  \\\n",
              "Opentime                                                             \n",
              "2022-02-13 22:00:00  41981.9  42888.0  41693.1  42022.9  10765.456   \n",
              "2022-02-13 23:00:00  42027.0  42888.0  41860.5  42391.7  10685.660   \n",
              "2022-02-14 00:00:00  42391.7  42888.0  41600.0  42233.7   9442.583   \n",
              "2022-02-14 01:00:00  42215.0  42888.0  42100.0  42368.1   6998.766   \n",
              "2022-02-14 02:00:00  42386.9  42888.0  41600.0  42059.6  10129.680   \n",
              "...                      ...      ...      ...      ...        ...   \n",
              "2023-04-06 09:00:00  28105.3  28299.6  28088.0  28223.1   3995.467   \n",
              "2023-04-06 10:00:00  28222.5  28288.0  28047.0  28055.2   5759.242   \n",
              "2023-04-06 11:00:00  28055.3  28285.6  27913.7  27952.8   4394.292   \n",
              "2023-04-06 12:00:00  27952.9  28223.3  27900.5  27960.9   4675.294   \n",
              "2023-04-06 13:00:00  27951.9  28200.6  27832.7  27832.7    334.199   \n",
              "\n",
              "                                  Closetime        Quotee Number  \\\n",
              "Opentime                                                           \n",
              "2022-02-13 22:00:00 2022-02-13 22:59:59.999  4.525984e+08   1367   \n",
              "2022-02-13 23:00:00 2022-02-13 23:59:59.999  4.512757e+08   1337   \n",
              "2022-02-14 00:00:00 2022-02-14 00:59:59.999  3.993682e+08   1315   \n",
              "2022-02-14 01:00:00 2022-02-14 01:59:59.999  2.961529e+08   1007   \n",
              "2022-02-14 02:00:00 2022-02-14 02:59:59.999  4.273422e+08   1593   \n",
              "...                                     ...           ...    ...   \n",
              "2023-04-06 09:00:00 2023-04-06 09:59:59.999  1.127358e+08   2185   \n",
              "2023-04-06 10:00:00 2023-04-06 10:59:59.999  1.621499e+08   2691   \n",
              "2023-04-06 11:00:00 2023-04-06 11:59:59.999  1.233329e+08   5916   \n",
              "2023-04-06 12:00:00 2023-04-06 12:59:59.999  1.310962e+08   3690   \n",
              "2023-04-06 13:00:00 2023-04-06 13:59:59.999  9.343093e+06    406   \n",
              "\n",
              "                     TakerBuyBaseAssetVolume  TakerBuyQuoteAssetVolume Ignore  \n",
              "Opentime                                                                       \n",
              "2022-02-13 22:00:00                 5078.521              2.135346e+08      0  \n",
              "2022-02-13 23:00:00                 5939.731              2.508994e+08      0  \n",
              "2022-02-14 00:00:00                 4824.664              2.041735e+08      0  \n",
              "2022-02-14 01:00:00                 3487.209              1.475774e+08      0  \n",
              "2022-02-14 02:00:00                 5347.614              2.256614e+08      0  \n",
              "...                                      ...                       ...    ...  \n",
              "2023-04-06 09:00:00                 2092.285              5.915169e+07      0  \n",
              "2023-04-06 10:00:00                 2816.736              7.945303e+07      0  \n",
              "2023-04-06 11:00:00                 2345.615              6.596952e+07      0  \n",
              "2023-04-06 12:00:00                 2341.247              6.578023e+07      0  \n",
              "2023-04-06 13:00:00                  109.340              3.075226e+06      0  \n",
              "\n",
              "[10000 rows x 11 columns]"
            ],
            "text/html": [
              "\n",
              "  <div id=\"df-b76a1db7-c17f-4254-80ae-ac5702daf5ea\">\n",
              "    <div class=\"colab-df-container\">\n",
              "      <div>\n",
              "<style scoped>\n",
              "    .dataframe tbody tr th:only-of-type {\n",
              "        vertical-align: middle;\n",
              "    }\n",
              "\n",
              "    .dataframe tbody tr th {\n",
              "        vertical-align: top;\n",
              "    }\n",
              "\n",
              "    .dataframe thead th {\n",
              "        text-align: right;\n",
              "    }\n",
              "</style>\n",
              "<table border=\"1\" class=\"dataframe\">\n",
              "  <thead>\n",
              "    <tr style=\"text-align: right;\">\n",
              "      <th></th>\n",
              "      <th>Open</th>\n",
              "      <th>High</th>\n",
              "      <th>Low</th>\n",
              "      <th>Close</th>\n",
              "      <th>Volume</th>\n",
              "      <th>Closetime</th>\n",
              "      <th>Quotee</th>\n",
              "      <th>Number</th>\n",
              "      <th>TakerBuyBaseAssetVolume</th>\n",
              "      <th>TakerBuyQuoteAssetVolume</th>\n",
              "      <th>Ignore</th>\n",
              "    </tr>\n",
              "    <tr>\n",
              "      <th>Opentime</th>\n",
              "      <th></th>\n",
              "      <th></th>\n",
              "      <th></th>\n",
              "      <th></th>\n",
              "      <th></th>\n",
              "      <th></th>\n",
              "      <th></th>\n",
              "      <th></th>\n",
              "      <th></th>\n",
              "      <th></th>\n",
              "      <th></th>\n",
              "    </tr>\n",
              "  </thead>\n",
              "  <tbody>\n",
              "    <tr>\n",
              "      <th>2022-02-13 22:00:00</th>\n",
              "      <td>41981.9</td>\n",
              "      <td>42888.0</td>\n",
              "      <td>41693.1</td>\n",
              "      <td>42022.9</td>\n",
              "      <td>10765.456</td>\n",
              "      <td>2022-02-13 22:59:59.999</td>\n",
              "      <td>4.525984e+08</td>\n",
              "      <td>1367</td>\n",
              "      <td>5078.521</td>\n",
              "      <td>2.135346e+08</td>\n",
              "      <td>0</td>\n",
              "    </tr>\n",
              "    <tr>\n",
              "      <th>2022-02-13 23:00:00</th>\n",
              "      <td>42027.0</td>\n",
              "      <td>42888.0</td>\n",
              "      <td>41860.5</td>\n",
              "      <td>42391.7</td>\n",
              "      <td>10685.660</td>\n",
              "      <td>2022-02-13 23:59:59.999</td>\n",
              "      <td>4.512757e+08</td>\n",
              "      <td>1337</td>\n",
              "      <td>5939.731</td>\n",
              "      <td>2.508994e+08</td>\n",
              "      <td>0</td>\n",
              "    </tr>\n",
              "    <tr>\n",
              "      <th>2022-02-14 00:00:00</th>\n",
              "      <td>42391.7</td>\n",
              "      <td>42888.0</td>\n",
              "      <td>41600.0</td>\n",
              "      <td>42233.7</td>\n",
              "      <td>9442.583</td>\n",
              "      <td>2022-02-14 00:59:59.999</td>\n",
              "      <td>3.993682e+08</td>\n",
              "      <td>1315</td>\n",
              "      <td>4824.664</td>\n",
              "      <td>2.041735e+08</td>\n",
              "      <td>0</td>\n",
              "    </tr>\n",
              "    <tr>\n",
              "      <th>2022-02-14 01:00:00</th>\n",
              "      <td>42215.0</td>\n",
              "      <td>42888.0</td>\n",
              "      <td>42100.0</td>\n",
              "      <td>42368.1</td>\n",
              "      <td>6998.766</td>\n",
              "      <td>2022-02-14 01:59:59.999</td>\n",
              "      <td>2.961529e+08</td>\n",
              "      <td>1007</td>\n",
              "      <td>3487.209</td>\n",
              "      <td>1.475774e+08</td>\n",
              "      <td>0</td>\n",
              "    </tr>\n",
              "    <tr>\n",
              "      <th>2022-02-14 02:00:00</th>\n",
              "      <td>42386.9</td>\n",
              "      <td>42888.0</td>\n",
              "      <td>41600.0</td>\n",
              "      <td>42059.6</td>\n",
              "      <td>10129.680</td>\n",
              "      <td>2022-02-14 02:59:59.999</td>\n",
              "      <td>4.273422e+08</td>\n",
              "      <td>1593</td>\n",
              "      <td>5347.614</td>\n",
              "      <td>2.256614e+08</td>\n",
              "      <td>0</td>\n",
              "    </tr>\n",
              "    <tr>\n",
              "      <th>...</th>\n",
              "      <td>...</td>\n",
              "      <td>...</td>\n",
              "      <td>...</td>\n",
              "      <td>...</td>\n",
              "      <td>...</td>\n",
              "      <td>...</td>\n",
              "      <td>...</td>\n",
              "      <td>...</td>\n",
              "      <td>...</td>\n",
              "      <td>...</td>\n",
              "      <td>...</td>\n",
              "    </tr>\n",
              "    <tr>\n",
              "      <th>2023-04-06 09:00:00</th>\n",
              "      <td>28105.3</td>\n",
              "      <td>28299.6</td>\n",
              "      <td>28088.0</td>\n",
              "      <td>28223.1</td>\n",
              "      <td>3995.467</td>\n",
              "      <td>2023-04-06 09:59:59.999</td>\n",
              "      <td>1.127358e+08</td>\n",
              "      <td>2185</td>\n",
              "      <td>2092.285</td>\n",
              "      <td>5.915169e+07</td>\n",
              "      <td>0</td>\n",
              "    </tr>\n",
              "    <tr>\n",
              "      <th>2023-04-06 10:00:00</th>\n",
              "      <td>28222.5</td>\n",
              "      <td>28288.0</td>\n",
              "      <td>28047.0</td>\n",
              "      <td>28055.2</td>\n",
              "      <td>5759.242</td>\n",
              "      <td>2023-04-06 10:59:59.999</td>\n",
              "      <td>1.621499e+08</td>\n",
              "      <td>2691</td>\n",
              "      <td>2816.736</td>\n",
              "      <td>7.945303e+07</td>\n",
              "      <td>0</td>\n",
              "    </tr>\n",
              "    <tr>\n",
              "      <th>2023-04-06 11:00:00</th>\n",
              "      <td>28055.3</td>\n",
              "      <td>28285.6</td>\n",
              "      <td>27913.7</td>\n",
              "      <td>27952.8</td>\n",
              "      <td>4394.292</td>\n",
              "      <td>2023-04-06 11:59:59.999</td>\n",
              "      <td>1.233329e+08</td>\n",
              "      <td>5916</td>\n",
              "      <td>2345.615</td>\n",
              "      <td>6.596952e+07</td>\n",
              "      <td>0</td>\n",
              "    </tr>\n",
              "    <tr>\n",
              "      <th>2023-04-06 12:00:00</th>\n",
              "      <td>27952.9</td>\n",
              "      <td>28223.3</td>\n",
              "      <td>27900.5</td>\n",
              "      <td>27960.9</td>\n",
              "      <td>4675.294</td>\n",
              "      <td>2023-04-06 12:59:59.999</td>\n",
              "      <td>1.310962e+08</td>\n",
              "      <td>3690</td>\n",
              "      <td>2341.247</td>\n",
              "      <td>6.578023e+07</td>\n",
              "      <td>0</td>\n",
              "    </tr>\n",
              "    <tr>\n",
              "      <th>2023-04-06 13:00:00</th>\n",
              "      <td>27951.9</td>\n",
              "      <td>28200.6</td>\n",
              "      <td>27832.7</td>\n",
              "      <td>27832.7</td>\n",
              "      <td>334.199</td>\n",
              "      <td>2023-04-06 13:59:59.999</td>\n",
              "      <td>9.343093e+06</td>\n",
              "      <td>406</td>\n",
              "      <td>109.340</td>\n",
              "      <td>3.075226e+06</td>\n",
              "      <td>0</td>\n",
              "    </tr>\n",
              "  </tbody>\n",
              "</table>\n",
              "<p>10000 rows × 11 columns</p>\n",
              "</div>\n",
              "      <button class=\"colab-df-convert\" onclick=\"convertToInteractive('df-b76a1db7-c17f-4254-80ae-ac5702daf5ea')\"\n",
              "              title=\"Convert this dataframe to an interactive table.\"\n",
              "              style=\"display:none;\">\n",
              "        \n",
              "  <svg xmlns=\"http://www.w3.org/2000/svg\" height=\"24px\"viewBox=\"0 0 24 24\"\n",
              "       width=\"24px\">\n",
              "    <path d=\"M0 0h24v24H0V0z\" fill=\"none\"/>\n",
              "    <path d=\"M18.56 5.44l.94 2.06.94-2.06 2.06-.94-2.06-.94-.94-2.06-.94 2.06-2.06.94zm-11 1L8.5 8.5l.94-2.06 2.06-.94-2.06-.94L8.5 2.5l-.94 2.06-2.06.94zm10 10l.94 2.06.94-2.06 2.06-.94-2.06-.94-.94-2.06-.94 2.06-2.06.94z\"/><path d=\"M17.41 7.96l-1.37-1.37c-.4-.4-.92-.59-1.43-.59-.52 0-1.04.2-1.43.59L10.3 9.45l-7.72 7.72c-.78.78-.78 2.05 0 2.83L4 21.41c.39.39.9.59 1.41.59.51 0 1.02-.2 1.41-.59l7.78-7.78 2.81-2.81c.8-.78.8-2.07 0-2.86zM5.41 20L4 18.59l7.72-7.72 1.47 1.35L5.41 20z\"/>\n",
              "  </svg>\n",
              "      </button>\n",
              "      \n",
              "  <style>\n",
              "    .colab-df-container {\n",
              "      display:flex;\n",
              "      flex-wrap:wrap;\n",
              "      gap: 12px;\n",
              "    }\n",
              "\n",
              "    .colab-df-convert {\n",
              "      background-color: #E8F0FE;\n",
              "      border: none;\n",
              "      border-radius: 50%;\n",
              "      cursor: pointer;\n",
              "      display: none;\n",
              "      fill: #1967D2;\n",
              "      height: 32px;\n",
              "      padding: 0 0 0 0;\n",
              "      width: 32px;\n",
              "    }\n",
              "\n",
              "    .colab-df-convert:hover {\n",
              "      background-color: #E2EBFA;\n",
              "      box-shadow: 0px 1px 2px rgba(60, 64, 67, 0.3), 0px 1px 3px 1px rgba(60, 64, 67, 0.15);\n",
              "      fill: #174EA6;\n",
              "    }\n",
              "\n",
              "    [theme=dark] .colab-df-convert {\n",
              "      background-color: #3B4455;\n",
              "      fill: #D2E3FC;\n",
              "    }\n",
              "\n",
              "    [theme=dark] .colab-df-convert:hover {\n",
              "      background-color: #434B5C;\n",
              "      box-shadow: 0px 1px 3px 1px rgba(0, 0, 0, 0.15);\n",
              "      filter: drop-shadow(0px 1px 2px rgba(0, 0, 0, 0.3));\n",
              "      fill: #FFFFFF;\n",
              "    }\n",
              "  </style>\n",
              "\n",
              "      <script>\n",
              "        const buttonEl =\n",
              "          document.querySelector('#df-b76a1db7-c17f-4254-80ae-ac5702daf5ea button.colab-df-convert');\n",
              "        buttonEl.style.display =\n",
              "          google.colab.kernel.accessAllowed ? 'block' : 'none';\n",
              "\n",
              "        async function convertToInteractive(key) {\n",
              "          const element = document.querySelector('#df-b76a1db7-c17f-4254-80ae-ac5702daf5ea');\n",
              "          const dataTable =\n",
              "            await google.colab.kernel.invokeFunction('convertToInteractive',\n",
              "                                                     [key], {});\n",
              "          if (!dataTable) return;\n",
              "\n",
              "          const docLinkHtml = 'Like what you see? Visit the ' +\n",
              "            '<a target=\"_blank\" href=https://colab.research.google.com/notebooks/data_table.ipynb>data table notebook</a>'\n",
              "            + ' to learn more about interactive tables.';\n",
              "          element.innerHTML = '';\n",
              "          dataTable['output_type'] = 'display_data';\n",
              "          await google.colab.output.renderOutput(dataTable, element);\n",
              "          const docLink = document.createElement('div');\n",
              "          docLink.innerHTML = docLinkHtml;\n",
              "          element.appendChild(docLink);\n",
              "        }\n",
              "      </script>\n",
              "    </div>\n",
              "  </div>\n",
              "  "
            ]
          },
          "metadata": {},
          "execution_count": 2
        }
      ]
    },
    {
      "cell_type": "code",
      "source": [
        "import matplotlib.pyplot as plt\n",
        "import warnings\n",
        "warnings.filterwarnings(\"ignore\")\n",
        "import math\n",
        "import numpy as np\n",
        "from sklearn.preprocessing import MinMaxScaler\n",
        "from keras.models import Sequential\n",
        "from keras.layers import Dense, LSTM\n",
        "plt.style.use('fivethirtyeight')\n",
        "\n",
        "%matplotlib inline"
      ],
      "metadata": {
        "id": "Suv16A1sfCNA"
      },
      "execution_count": null,
      "outputs": []
    },
    {
      "cell_type": "code",
      "source": [
        "plt.figure(figsize=(16, 8))\n",
        "plt.title('Close Price Hystory')\n",
        "plt.plot(df['Close'])\n",
        "plt.xlabel('Open Time', fontsize=18)\n",
        "plt.ylabel('Close Price USDT', fontsize=18)\n",
        "plt.show()"
      ],
      "metadata": {
        "colab": {
          "base_uri": "https://localhost:8080/",
          "height": 768
        },
        "id": "HqEaFYe_691X",
        "outputId": "bb4fd89f-b504-4028-8ecd-080f57ff177a"
      },
      "execution_count": null,
      "outputs": [
        {
          "output_type": "display_data",
          "data": {
            "text/plain": [
              "<Figure size 1600x800 with 1 Axes>"
            ],
            "image/png": "[encoded data removed]"
          },
          "metadata": {}
        }
      ]
    },
    {
      "cell_type": "code",
      "source": [
        "df.shape"
      ],
      "metadata": {
        "colab": {
          "base_uri": "https://localhost:8080/"
        },
        "id": "qT63DMDQvVgr",
        "outputId": "4e0db697-351f-4637-f66a-9ad94342174b"
      },
      "execution_count": null,
      "outputs": [
        {
          "output_type": "execute_result",
          "data": {
            "text/plain": [
              "(10000, 11)"
            ]
          },
          "metadata": {},
          "execution_count": 6
        }
      ]
    },
    {
      "cell_type": "code",
      "source": [
        "data = df.filter(['Close'])    # преобразование в массив\n",
        "dataset = data.values\n",
        "training_data_len = math.ceil(len(dataset) * .8)         # получаем кол-во строк для обучения"
      ],
      "metadata": {
        "id": "YIZI90dm3S1a"
      },
      "execution_count": null,
      "outputs": []
    },
    {
      "cell_type": "code",
      "source": [
        "training_data_len"
      ],
      "metadata": {
        "colab": {
          "base_uri": "https://localhost:8080/"
        },
        "id": "2JH9BN-P3vma",
        "outputId": "52ef7b06-71cb-4545-fc1a-81606189d6d2"
      },
      "execution_count": null,
      "outputs": [
        {
          "output_type": "execute_result",
          "data": {
            "text/plain": [
              "8000"
            ]
          },
          "metadata": {},
          "execution_count": 8
        }
      ]
    },
    {
      "cell_type": "code",
      "source": [
        "scaler = MinMaxScaler(feature_range=(0,1))      # маштаб данных в диапозоне 0, 1\n",
        "scaled_data = scaler.fit_transform(dataset)"
      ],
      "metadata": {
        "id": "-OrMgTEu4Qr0"
      },
      "execution_count": null,
      "outputs": []
    },
    {
      "cell_type": "code",
      "source": [
        "scaled_data"
      ],
      "metadata": {
        "colab": {
          "base_uri": "https://localhost:8080/"
        },
        "id": "NpDp59vs4fTK",
        "outputId": "05ce1134-5efd-4d1c-9791-5111826d069a"
      },
      "execution_count": null,
      "outputs": [
        {
          "output_type": "execute_result",
          "data": {
            "text/plain": [
              "array([[0.73541901],\n",
              "       [0.74571525],\n",
              "       [0.74130417],\n",
              "       ...,\n",
              "       [0.34260684],\n",
              "       [0.34283297],\n",
              "       [0.33925386]])"
            ]
          },
          "metadata": {},
          "execution_count": 10
        }
      ]
    },
    {
      "cell_type": "code",
      "source": [
        "train_data = scaled_data[0:training_data_len, :]         # набор обучающих данных\n",
        "x_train = []                                             # разделение на x_train, y_train\n",
        "y_train = []\n",
        "\n",
        "for i in range(60, len(train_data)):                      # добовляем последнии 60 значений в обучающий набр\n",
        "  x_train.append(train_data[i-60:i, 0])\n",
        "  y_train.append(train_data[i, 0])\n",
        "  if i<= 61:\n",
        "    print(x_train)\n",
        "    print(y_train)\n",
        "    print()\n",
        "\n",
        "\n"
      ],
      "metadata": {
        "colab": {
          "base_uri": "https://localhost:8080/"
        },
        "id": "iyCRT-KO6Lfi",
        "outputId": "5e63d48d-c15e-47e8-adf9-65124ac8810f"
      },
      "execution_count": null,
      "outputs": [
        {
          "output_type": "stream",
          "name": "stdout",
          "text": [
            "[array([0.73541901, 0.74571525, 0.74130417, 0.74505638, 0.73644361,\n",
            "       0.7381522 , 0.72579002, 0.72690116, 0.73260485, 0.73813545,\n",
            "       0.72905924, 0.73967375, 0.74362976, 0.73689868, 0.73681771,\n",
            "       0.74101661, 0.73783673, 0.74948979, 0.74893143, 0.74919386,\n",
            "       0.75236258, 0.75291257, 0.75082429, 0.74182345, 0.73824992,\n",
            "       0.73983288, 0.74102778, 0.75288744, 0.75018775, 0.83249346,\n",
            "       0.7752304 , 0.77809201, 0.77847728, 0.77633596, 0.77889047,\n",
            "       0.77773466, 0.78229091, 0.78965295, 0.79193666, 0.79810938,\n",
            "       0.79804796, 0.79503837, 0.79638962, 0.79159885, 0.79587871,\n",
            "       0.79412266, 0.78845247, 0.79439905, 0.79107119, 0.79481782,\n",
            "       0.79000193, 0.7948597 , 0.80578689, 0.79595967, 0.79085064,\n",
            "       0.7924364 , 0.79018619, 0.7876568 , 0.79207904, 0.79191712])]\n",
            "[0.7957726228331967]\n",
            "\n",
            "[array([0.73541901, 0.74571525, 0.74130417, 0.74505638, 0.73644361,\n",
            "       0.7381522 , 0.72579002, 0.72690116, 0.73260485, 0.73813545,\n",
            "       0.72905924, 0.73967375, 0.74362976, 0.73689868, 0.73681771,\n",
            "       0.74101661, 0.73783673, 0.74948979, 0.74893143, 0.74919386,\n",
            "       0.75236258, 0.75291257, 0.75082429, 0.74182345, 0.73824992,\n",
            "       0.73983288, 0.74102778, 0.75288744, 0.75018775, 0.83249346,\n",
            "       0.7752304 , 0.77809201, 0.77847728, 0.77633596, 0.77889047,\n",
            "       0.77773466, 0.78229091, 0.78965295, 0.79193666, 0.79810938,\n",
            "       0.79804796, 0.79503837, 0.79638962, 0.79159885, 0.79587871,\n",
            "       0.79412266, 0.78845247, 0.79439905, 0.79107119, 0.79481782,\n",
            "       0.79000193, 0.7948597 , 0.80578689, 0.79595967, 0.79085064,\n",
            "       0.7924364 , 0.79018619, 0.7876568 , 0.79207904, 0.79191712]), array([0.74571525, 0.74130417, 0.74505638, 0.73644361, 0.7381522 ,\n",
            "       0.72579002, 0.72690116, 0.73260485, 0.73813545, 0.72905924,\n",
            "       0.73967375, 0.74362976, 0.73689868, 0.73681771, 0.74101661,\n",
            "       0.73783673, 0.74948979, 0.74893143, 0.74919386, 0.75236258,\n",
            "       0.75291257, 0.75082429, 0.74182345, 0.73824992, 0.73983288,\n",
            "       0.74102778, 0.75288744, 0.75018775, 0.83249346, 0.7752304 ,\n",
            "       0.77809201, 0.77847728, 0.77633596, 0.77889047, 0.77773466,\n",
            "       0.78229091, 0.78965295, 0.79193666, 0.79810938, 0.79804796,\n",
            "       0.79503837, 0.79638962, 0.79159885, 0.79587871, 0.79412266,\n",
            "       0.78845247, 0.79439905, 0.79107119, 0.79481782, 0.79000193,\n",
            "       0.7948597 , 0.80578689, 0.79595967, 0.79085064, 0.7924364 ,\n",
            "       0.79018619, 0.7876568 , 0.79207904, 0.79191712, 0.79577262])]\n",
            "[0.7957726228331967, 0.7949155334195075]\n",
            "\n"
          ]
        }
      ]
    },
    {
      "cell_type": "code",
      "source": [
        "x_train, y_train = np.array(x_train), np.array(y_train)              # преобразование в массив numpy"
      ],
      "metadata": {
        "id": "pyq6QuqI_y0j"
      },
      "execution_count": null,
      "outputs": []
    },
    {
      "cell_type": "code",
      "source": [
        "x_train = np.reshape(x_train, (x_train.shape[0], x_train.shape[1], 1))   # изменяем набор данных, LSTM принимает трех мерные данные\n",
        "x_train.shape"
      ],
      "metadata": {
        "colab": {
          "base_uri": "https://localhost:8080/"
        },
        "id": "WBmhv58pAJ_q",
        "outputId": "6c911c31-00df-4cc7-cbe0-643850d0d91f"
      },
      "execution_count": null,
      "outputs": [
        {
          "output_type": "execute_result",
          "data": {
            "text/plain": [
              "(7940, 60, 1)"
            ]
          },
          "metadata": {},
          "execution_count": 13
        }
      ]
    },
    {
      "cell_type": "code",
      "source": [
        "model = Sequential()                                                            # модель LSTM\n",
        "model.add(LSTM(50, return_sequences=True, input_shape=(x_train.shape[1], 1)))\n",
        "model.add(LSTM(50, return_sequences=False))\n",
        "model.add(Dense(25))\n",
        "model.add(Dense(1))"
      ],
      "metadata": {
        "id": "tKqO_jtWCIsY"
      },
      "execution_count": null,
      "outputs": []
    },
    {
      "cell_type": "code",
      "source": [
        "model.compile(optimizer='adam', loss='mean_squared_error')"
      ],
      "metadata": {
        "id": "q-pnnRhuDYkw"
      },
      "execution_count": null,
      "outputs": []
    },
    {
      "cell_type": "code",
      "source": [
        "model.fit(x_train, y_train, batch_size=10, epochs=20)"
      ],
      "metadata": {
        "colab": {
          "base_uri": "https://localhost:8080/"
        },
        "id": "XtmBke40DrtJ",
        "outputId": "bd0cd8b6-603c-4efb-d06c-5562a0bef3f1"
      },
      "execution_count": null,
      "outputs": [
        {
          "output_type": "stream",
          "name": "stdout",
          "text": [
            "Epoch 1/20\n",
            "794/794 [==============================] - 40s 45ms/step - loss: 0.0013\n",
            "Epoch 2/20\n",
            "794/794 [==============================] - 37s 46ms/step - loss: 2.8803e-04\n",
            "Epoch 3/20\n",
            "794/794 [==============================] - 35s 44ms/step - loss: 2.4606e-04\n",
            "Epoch 4/20\n",
            "794/794 [==============================] - 36s 45ms/step - loss: 2.1778e-04\n",
            "Epoch 5/20\n",
            "794/794 [==============================] - 34s 43ms/step - loss: 1.7812e-04\n",
            "Epoch 6/20\n",
            "794/794 [==============================] - 35s 44ms/step - loss: 1.9504e-04\n",
            "Epoch 7/20\n",
            "794/794 [==============================] - 34s 43ms/step - loss: 1.8542e-04\n",
            "Epoch 8/20\n",
            "794/794 [==============================] - 35s 44ms/step - loss: 1.8957e-04\n",
            "Epoch 9/20\n",
            "794/794 [==============================] - 36s 45ms/step - loss: 1.7410e-04\n",
            "Epoch 10/20\n",
            "794/794 [==============================] - 34s 43ms/step - loss: 1.6168e-04\n",
            "Epoch 11/20\n",
            "794/794 [==============================] - 38s 48ms/step - loss: 1.6246e-04\n",
            "Epoch 12/20\n",
            "794/794 [==============================] - 34s 43ms/step - loss: 1.5519e-04\n",
            "Epoch 13/20\n",
            "794/794 [==============================] - 35s 45ms/step - loss: 1.6058e-04\n",
            "Epoch 14/20\n",
            "794/794 [==============================] - 34s 43ms/step - loss: 1.7289e-04\n",
            "Epoch 15/20\n",
            "794/794 [==============================] - 35s 45ms/step - loss: 1.5908e-04\n",
            "Epoch 16/20\n",
            "794/794 [==============================] - 34s 43ms/step - loss: 1.4518e-04\n",
            "Epoch 17/20\n",
            "794/794 [==============================] - 35s 45ms/step - loss: 1.5126e-04\n",
            "Epoch 18/20\n",
            "794/794 [==============================] - 34s 43ms/step - loss: 1.5000e-04\n",
            "Epoch 19/20\n",
            "794/794 [==============================] - 36s 45ms/step - loss: 1.6587e-04\n",
            "Epoch 20/20\n",
            "794/794 [==============================] - 34s 43ms/step - loss: 1.5633e-04\n"
          ]
        },
        {
          "output_type": "execute_result",
          "data": {
            "text/plain": [
              "<keras.callbacks.History at 0x7f956414d6d0>"
            ]
          },
          "metadata": {},
          "execution_count": 16
        }
      ]
    },
    {
      "cell_type": "code",
      "source": [
        "test_data = scaled_data[training_data_len - 60:, :]           # создаем набор тэстовых данных\n",
        "x_test = []\n",
        "y_test = dataset[training_data_len:, :]\n",
        "for i in range(60, len(test_data)):\n",
        "  x_test.append(test_data[i-60:i, 0])"
      ],
      "metadata": {
        "id": "8yojffLyFw9C"
      },
      "execution_count": null,
      "outputs": []
    },
    {
      "cell_type": "code",
      "source": [
        "x_test = np.array(x_test)                                   # преобразование в массив"
      ],
      "metadata": {
        "id": "1NpYly5CG3sq"
      },
      "execution_count": null,
      "outputs": []
    },
    {
      "cell_type": "code",
      "source": [
        "x_test = np.reshape(x_test, (x_test.shape[0], x_test.shape[1], 1))     # меняем форму данных"
      ],
      "metadata": {
        "id": "rodvpYKxHrBx"
      },
      "execution_count": null,
      "outputs": []
    },
    {
      "cell_type": "code",
      "source": [
        "predictions = model.predict(x_test)                                  # predict\n",
        "predictions = scaler.inverse_transform(predictions)"
      ],
      "metadata": {
        "colab": {
          "base_uri": "https://localhost:8080/"
        },
        "id": "23q-7HPeIUVk",
        "outputId": "d3542d20-85b1-4f6d-f374-c7fa56bb0ae5"
      },
      "execution_count": null,
      "outputs": [
        {
          "output_type": "stream",
          "name": "stdout",
          "text": [
            "63/63 [==============================] - 3s 34ms/step\n"
          ]
        }
      ]
    },
    {
      "cell_type": "code",
      "source": [
        "rmse = np.sqrt( np.mean( predictions - y_test )**2)\n",
        "rmse"
      ],
      "metadata": {
        "colab": {
          "base_uri": "https://localhost:8080/"
        },
        "id": "wdYRn_h0JUpR",
        "outputId": "08a992c4-b9a9-4b7c-91ff-b9906fb42545"
      },
      "execution_count": null,
      "outputs": [
        {
          "output_type": "execute_result",
          "data": {
            "text/plain": [
              "4.003521484374998"
            ]
          },
          "metadata": {},
          "execution_count": 21
        }
      ]
    },
    {
      "cell_type": "code",
      "source": [
        "train = data[:training_data_len]\n",
        "valid = data[training_data_len:]\n",
        "valid['Predictions'] = predictions\n",
        "plt.figure(figsize=(16, 8))\n",
        "plt.title('Model')\n",
        "plt.xlabel('Open Time', fontsize=18)\n",
        "plt.ylabel('Close price USDT', fontsize=18)\n",
        "plt.plot(train['Close'])\n",
        "plt.plot(valid[['Close', 'Predictions']])\n",
        "plt.legend(['Train', 'Val', 'Predictions'], loc='lower right')\n",
        "plt.show()"
      ],
      "metadata": {
        "colab": {
          "base_uri": "https://localhost:8080/",
          "height": 768
        },
        "id": "bNKzWzXDL71h",
        "outputId": "b0fbab9d-1ca5-4779-edfb-08a0857bbf57"
      },
      "execution_count": null,
      "outputs": [
        {
          "output_type": "display_data",
          "data": {
            "text/plain": [
              "<Figure size 1600x800 with 1 Axes>"
            ],
            "image/png": "[encoded data removed]"
          },
          "metadata": {}
        }
      ]
    },
    {
      "cell_type": "code",
      "source": [
        "valid                                                  # прогоз цен"
      ],
      "metadata": {
        "colab": {
          "base_uri": "https://localhost:8080/",
          "height": 455
        },
        "id": "e0kIQi5SMXlp",
        "outputId": "01a5a1ed-c00f-4ec3-8978-a95b60533a84"
      },
      "execution_count": null,
      "outputs": [
        {
          "output_type": "execute_result",
          "data": {
            "text/plain": [
              "                       Close   Predictions\n",
              "Opentime                                  \n",
              "2023-01-13 06:00:00  18876.6  18882.695312\n",
              "2023-01-13 07:00:00  18830.6  18920.521484\n",
              "2023-01-13 08:00:00  18786.3  18914.949219\n",
              "2023-01-13 09:00:00  18849.9  18886.662109\n",
              "2023-01-13 10:00:00  18819.0  18905.281250\n",
              "...                      ...           ...\n",
              "2023-04-06 09:00:00  28223.1  28126.937500\n",
              "2023-04-06 10:00:00  28055.2  28170.449219\n",
              "2023-04-06 11:00:00  27952.8  28106.857422\n",
              "2023-04-06 12:00:00  27960.9  28016.810547\n",
              "2023-04-06 13:00:00  27832.7  27978.519531\n",
              "\n",
              "[2000 rows x 2 columns]"
            ],
            "text/html": [
              "\n",
              "  <div id=\"df-d785b284-a7bf-4cfe-af37-68edbd8c5a7c\">\n",
              "    <div class=\"colab-df-container\">\n",
              "      <div>\n",
              "<style scoped>\n",
              "    .dataframe tbody tr th:only-of-type {\n",
              "        vertical-align: middle;\n",
              "    }\n",
              "\n",
              "    .dataframe tbody tr th {\n",
              "        vertical-align: top;\n",
              "    }\n",
              "\n",
              "    .dataframe thead th {\n",
              "        text-align: right;\n",
              "    }\n",
              "</style>\n",
              "<table border=\"1\" class=\"dataframe\">\n",
              "  <thead>\n",
              "    <tr style=\"text-align: right;\">\n",
              "      <th></th>\n",
              "      <th>Close</th>\n",
              "      <th>Predictions</th>\n",
              "    </tr>\n",
              "    <tr>\n",
              "      <th>Opentime</th>\n",
              "      <th></th>\n",
              "      <th></th>\n",
              "    </tr>\n",
              "  </thead>\n",
              "  <tbody>\n",
              "    <tr>\n",
              "      <th>2023-01-13 06:00:00</th>\n",
              "      <td>18876.6</td>\n",
              "      <td>18882.695312</td>\n",
              "    </tr>\n",
              "    <tr>\n",
              "      <th>2023-01-13 07:00:00</th>\n",
              "      <td>18830.6</td>\n",
              "      <td>18920.521484</td>\n",
              "    </tr>\n",
              "    <tr>\n",
              "      <th>2023-01-13 08:00:00</th>\n",
              "      <td>18786.3</td>\n",
              "      <td>18914.949219</td>\n",
              "    </tr>\n",
              "    <tr>\n",
              "      <th>2023-01-13 09:00:00</th>\n",
              "      <td>18849.9</td>\n",
              "      <td>18886.662109</td>\n",
              "    </tr>\n",
              "    <tr>\n",
              "      <th>2023-01-13 10:00:00</th>\n",
              "      <td>18819.0</td>\n",
              "      <td>18905.281250</td>\n",
              "    </tr>\n",
              "    <tr>\n",
              "      <th>...</th>\n",
              "      <td>...</td>\n",
              "      <td>...</td>\n",
              "    </tr>\n",
              "    <tr>\n",
              "      <th>2023-04-06 09:00:00</th>\n",
              "      <td>28223.1</td>\n",
              "      <td>28126.937500</td>\n",
              "    </tr>\n",
              "    <tr>\n",
              "      <th>2023-04-06 10:00:00</th>\n",
              "      <td>28055.2</td>\n",
              "      <td>28170.449219</td>\n",
              "    </tr>\n",
              "    <tr>\n",
              "      <th>2023-04-06 11:00:00</th>\n",
              "      <td>27952.8</td>\n",
              "      <td>28106.857422</td>\n",
              "    </tr>\n",
              "    <tr>\n",
              "      <th>2023-04-06 12:00:00</th>\n",
              "      <td>27960.9</td>\n",
              "      <td>28016.810547</td>\n",
              "    </tr>\n",
              "    <tr>\n",
              "      <th>2023-04-06 13:00:00</th>\n",
              "      <td>27832.7</td>\n",
              "      <td>27978.519531</td>\n",
              "    </tr>\n",
              "  </tbody>\n",
              "</table>\n",
              "<p>2000 rows × 2 columns</p>\n",
              "</div>\n",
              "      <button class=\"colab-df-convert\" onclick=\"convertToInteractive('df-d785b284-a7bf-4cfe-af37-68edbd8c5a7c')\"\n",
              "              title=\"Convert this dataframe to an interactive table.\"\n",
              "              style=\"display:none;\">\n",
              "        \n",
              "  <svg xmlns=\"http://www.w3.org/2000/svg\" height=\"24px\"viewBox=\"0 0 24 24\"\n",
              "       width=\"24px\">\n",
              "    <path d=\"M0 0h24v24H0V0z\" fill=\"none\"/>\n",
              "    <path d=\"M18.56 5.44l.94 2.06.94-2.06 2.06-.94-2.06-.94-.94-2.06-.94 2.06-2.06.94zm-11 1L8.5 8.5l.94-2.06 2.06-.94-2.06-.94L8.5 2.5l-.94 2.06-2.06.94zm10 10l.94 2.06.94-2.06 2.06-.94-2.06-.94-.94-2.06-.94 2.06-2.06.94z\"/><path d=\"M17.41 7.96l-1.37-1.37c-.4-.4-.92-.59-1.43-.59-.52 0-1.04.2-1.43.59L10.3 9.45l-7.72 7.72c-.78.78-.78 2.05 0 2.83L4 21.41c.39.39.9.59 1.41.59.51 0 1.02-.2 1.41-.59l7.78-7.78 2.81-2.81c.8-.78.8-2.07 0-2.86zM5.41 20L4 18.59l7.72-7.72 1.47 1.35L5.41 20z\"/>\n",
              "  </svg>\n",
              "      </button>\n",
              "      \n",
              "  <style>\n",
              "    .colab-df-container {\n",
              "      display:flex;\n",
              "      flex-wrap:wrap;\n",
              "      gap: 12px;\n",
              "    }\n",
              "\n",
              "    .colab-df-convert {\n",
              "      background-color: #E8F0FE;\n",
              "      border: none;\n",
              "      border-radius: 50%;\n",
              "      cursor: pointer;\n",
              "      display: none;\n",
              "      fill: #1967D2;\n",
              "      height: 32px;\n",
              "      padding: 0 0 0 0;\n",
              "      width: 32px;\n",
              "    }\n",
              "\n",
              "    .colab-df-convert:hover {\n",
              "      background-color: #E2EBFA;\n",
              "      box-shadow: 0px 1px 2px rgba(60, 64, 67, 0.3), 0px 1px 3px 1px rgba(60, 64, 67, 0.15);\n",
              "      fill: #174EA6;\n",
              "    }\n",
              "\n",
              "    [theme=dark] .colab-df-convert {\n",
              "      background-color: #3B4455;\n",
              "      fill: #D2E3FC;\n",
              "    }\n",
              "\n",
              "    [theme=dark] .colab-df-convert:hover {\n",
              "      background-color: #434B5C;\n",
              "      box-shadow: 0px 1px 3px 1px rgba(0, 0, 0, 0.15);\n",
              "      filter: drop-shadow(0px 1px 2px rgba(0, 0, 0, 0.3));\n",
              "      fill: #FFFFFF;\n",
              "    }\n",
              "  </style>\n",
              "\n",
              "      <script>\n",
              "        const buttonEl =\n",
              "          document.querySelector('#df-d785b284-a7bf-4cfe-af37-68edbd8c5a7c button.colab-df-convert');\n",
              "        buttonEl.style.display =\n",
              "          google.colab.kernel.accessAllowed ? 'block' : 'none';\n",
              "\n",
              "        async function convertToInteractive(key) {\n",
              "          const element = document.querySelector('#df-d785b284-a7bf-4cfe-af37-68edbd8c5a7c');\n",
              "          const dataTable =\n",
              "            await google.colab.kernel.invokeFunction('convertToInteractive',\n",
              "                                                     [key], {});\n",
              "          if (!dataTable) return;\n",
              "\n",
              "          const docLinkHtml = 'Like what you see? Visit the ' +\n",
              "            '<a target=\"_blank\" href=https://colab.research.google.com/notebooks/data_table.ipynb>data table notebook</a>'\n",
              "            + ' to learn more about interactive tables.';\n",
              "          element.innerHTML = '';\n",
              "          dataTable['output_type'] = 'display_data';\n",
              "          await google.colab.output.renderOutput(dataTable, element);\n",
              "          const docLink = document.createElement('div');\n",
              "          docLink.innerHTML = docLinkHtml;\n",
              "          element.appendChild(docLink);\n",
              "        }\n",
              "      </script>\n",
              "    </div>\n",
              "  </div>\n",
              "  "
            ]
          },
          "metadata": {},
          "execution_count": 23
        }
      ]
    },
    {
      "cell_type": "code",
      "source": [
        "df_pred = df\n",
        "new_df = df_pred.filter(['Close'])\n",
        "last_hour = new_df[-60:].values\n",
        "last_hour_scaled = scaler.transform(last_hour)\n",
        "X_test = []\n",
        "X_test.append(last_hour_scaled)\n",
        "X_test = np.array(X_test)\n",
        "X_test = np.reshape(X_test, (X_test.shape[0], X_test.shape[1], 1))\n",
        "pred_price = model.predict(X_test)\n",
        "pred_price = scaler.inverse_transform(pred_price)\n",
        "print(pred_price )"
      ],
      "metadata": {
        "colab": {
          "base_uri": "https://localhost:8080/"
        },
        "id": "ZO0pdwKWOEJJ",
        "outputId": "4d131987-e3f9-44ea-c3c1-87a68d910e8a"
      },
      "execution_count": null,
      "outputs": [
        {
          "output_type": "stream",
          "name": "stdout",
          "text": [
            "1/1 [==============================] - 0s 51ms/step\n",
            "[[27896.54]]\n"
          ]
        }
      ]
    }
  ]
}